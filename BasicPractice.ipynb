{
 "cells": [
  {
   "cell_type": "markdown",
   "metadata": {},
   "source": [
    "### sklearn.model_selection.cross_val_score"
   ]
  },
  {
   "cell_type": "markdown",
   "metadata": {},
   "source": [
    "<pre>\n",
    "from sklearn.cross_validation import cross_val_score\n",
    "cross_val_score(estimator,      # estimator object implementing ‘fit’\n",
    "                X,              # array-like, The data to fit. Can be for example a list, or an array.\n",
    "                y=None,         # array-like, optional, default: None , 예측을 위한 데이터\n",
    "                groups=None,    # array-like, with shape (n_samples,), optional\n",
    "                scoring=None,   # string, callable or None, optional, default: None\n",
    "                cv=None,        # int, cross-validation generator or an iterable, optional\n",
    "                                # None, to use the default 3-fold cross validation\n",
    "                                # integer, to specify the number of folds in a (Stratified)KFold,\n",
    "                n_jobs=1,       # The number of CPUs to use to do the computation. -1 means ‘all CPUs’.\n",
    "                verbose=0,      # integer, optional, The verbosity level.\n",
    "                fit_params=None,  # dict, optional,  Parameters to pass to the fit method of the estimator.\n",
    "                pre_dispatch='2*n_jobs')[source]  # int, or string, optional\n",
    "\n",
    "# Returns : scores : array of float, shape=(len(list(cv)),)\n",
    "# Array of scores of the estimator for each run of the cross validation.\n",
    "# 교차 실행에 대한 평가자의 점수 배열\n",
    "\n",
    "</pre>"
   ]
  },
  {
   "cell_type": "code",
   "execution_count": 9,
   "metadata": {
    "collapsed": false
   },
   "outputs": [
    {
     "data": {
      "text/plain": [
       "{'DESCR': 'Diabetes dataset\\n================\\n\\nNotes\\n-----\\n\\nTen baseline variables, age, sex, body mass index, average blood\\npressure, and six blood serum measurements were obtained for each of n =\\n442 diabetes patients, as well as the response of interest, a\\nquantitative measure of disease progression one year after baseline.\\n\\nData Set Characteristics:\\n\\n  :Number of Instances: 442\\n\\n  :Number of Attributes: First 10 columns are numeric predictive values\\n\\n  :Target: Column 11 is a quantitative measure of disease progression one year after baseline\\n\\n  :Attributes:\\n    :Age:\\n    :Sex:\\n    :Body mass index:\\n    :Average blood pressure:\\n    :S1:\\n    :S2:\\n    :S3:\\n    :S4:\\n    :S5:\\n    :S6:\\n\\nNote: Each of these 10 feature variables have been mean centered and scaled by the standard deviation times `n_samples` (i.e. the sum of squares of each column totals 1).\\n\\nSource URL:\\nhttp://www4.stat.ncsu.edu/~boos/var.select/diabetes.html\\n\\nFor more information see:\\nBradley Efron, Trevor Hastie, Iain Johnstone and Robert Tibshirani (2004) \"Least Angle Regression,\" Annals of Statistics (with discussion), 407-499.\\n(http://web.stanford.edu/~hastie/Papers/LARS/LeastAngle_2002.pdf)\\n',\n",
       " 'data': array([[ 0.03807591,  0.05068012,  0.06169621, ..., -0.00259226,\n",
       "          0.01990842, -0.01764613],\n",
       "        [-0.00188202, -0.04464164, -0.05147406, ..., -0.03949338,\n",
       "         -0.06832974, -0.09220405],\n",
       "        [ 0.08529891,  0.05068012,  0.04445121, ..., -0.00259226,\n",
       "          0.00286377, -0.02593034],\n",
       "        ..., \n",
       "        [ 0.04170844,  0.05068012, -0.01590626, ..., -0.01107952,\n",
       "         -0.04687948,  0.01549073],\n",
       "        [-0.04547248, -0.04464164,  0.03906215, ...,  0.02655962,\n",
       "          0.04452837, -0.02593034],\n",
       "        [-0.04547248, -0.04464164, -0.0730303 , ..., -0.03949338,\n",
       "         -0.00421986,  0.00306441]]),\n",
       " 'feature_names': ['age',\n",
       "  'sex',\n",
       "  'bmi',\n",
       "  'bp',\n",
       "  's1',\n",
       "  's2',\n",
       "  's3',\n",
       "  's4',\n",
       "  's5',\n",
       "  's6'],\n",
       " 'target': array([ 151.,   75.,  141.,  206.,  135.,   97.,  138.,   63.,  110.,\n",
       "         310.,  101.,   69.,  179.,  185.,  118.,  171.,  166.,  144.,\n",
       "          97.,  168.,   68.,   49.,   68.,  245.,  184.,  202.,  137.,\n",
       "          85.,  131.,  283.,  129.,   59.,  341.,   87.,   65.,  102.,\n",
       "         265.,  276.,  252.,   90.,  100.,   55.,   61.,   92.,  259.,\n",
       "          53.,  190.,  142.,   75.,  142.,  155.,  225.,   59.,  104.,\n",
       "         182.,  128.,   52.,   37.,  170.,  170.,   61.,  144.,   52.,\n",
       "         128.,   71.,  163.,  150.,   97.,  160.,  178.,   48.,  270.,\n",
       "         202.,  111.,   85.,   42.,  170.,  200.,  252.,  113.,  143.,\n",
       "          51.,   52.,  210.,   65.,  141.,   55.,  134.,   42.,  111.,\n",
       "          98.,  164.,   48.,   96.,   90.,  162.,  150.,  279.,   92.,\n",
       "          83.,  128.,  102.,  302.,  198.,   95.,   53.,  134.,  144.,\n",
       "         232.,   81.,  104.,   59.,  246.,  297.,  258.,  229.,  275.,\n",
       "         281.,  179.,  200.,  200.,  173.,  180.,   84.,  121.,  161.,\n",
       "          99.,  109.,  115.,  268.,  274.,  158.,  107.,   83.,  103.,\n",
       "         272.,   85.,  280.,  336.,  281.,  118.,  317.,  235.,   60.,\n",
       "         174.,  259.,  178.,  128.,   96.,  126.,  288.,   88.,  292.,\n",
       "          71.,  197.,  186.,   25.,   84.,   96.,  195.,   53.,  217.,\n",
       "         172.,  131.,  214.,   59.,   70.,  220.,  268.,  152.,   47.,\n",
       "          74.,  295.,  101.,  151.,  127.,  237.,  225.,   81.,  151.,\n",
       "         107.,   64.,  138.,  185.,  265.,  101.,  137.,  143.,  141.,\n",
       "          79.,  292.,  178.,   91.,  116.,   86.,  122.,   72.,  129.,\n",
       "         142.,   90.,  158.,   39.,  196.,  222.,  277.,   99.,  196.,\n",
       "         202.,  155.,   77.,  191.,   70.,   73.,   49.,   65.,  263.,\n",
       "         248.,  296.,  214.,  185.,   78.,   93.,  252.,  150.,   77.,\n",
       "         208.,   77.,  108.,  160.,   53.,  220.,  154.,  259.,   90.,\n",
       "         246.,  124.,   67.,   72.,  257.,  262.,  275.,  177.,   71.,\n",
       "          47.,  187.,  125.,   78.,   51.,  258.,  215.,  303.,  243.,\n",
       "          91.,  150.,  310.,  153.,  346.,   63.,   89.,   50.,   39.,\n",
       "         103.,  308.,  116.,  145.,   74.,   45.,  115.,  264.,   87.,\n",
       "         202.,  127.,  182.,  241.,   66.,   94.,  283.,   64.,  102.,\n",
       "         200.,  265.,   94.,  230.,  181.,  156.,  233.,   60.,  219.,\n",
       "          80.,   68.,  332.,  248.,   84.,  200.,   55.,   85.,   89.,\n",
       "          31.,  129.,   83.,  275.,   65.,  198.,  236.,  253.,  124.,\n",
       "          44.,  172.,  114.,  142.,  109.,  180.,  144.,  163.,  147.,\n",
       "          97.,  220.,  190.,  109.,  191.,  122.,  230.,  242.,  248.,\n",
       "         249.,  192.,  131.,  237.,   78.,  135.,  244.,  199.,  270.,\n",
       "         164.,   72.,   96.,  306.,   91.,  214.,   95.,  216.,  263.,\n",
       "         178.,  113.,  200.,  139.,  139.,   88.,  148.,   88.,  243.,\n",
       "          71.,   77.,  109.,  272.,   60.,   54.,  221.,   90.,  311.,\n",
       "         281.,  182.,  321.,   58.,  262.,  206.,  233.,  242.,  123.,\n",
       "         167.,   63.,  197.,   71.,  168.,  140.,  217.,  121.,  235.,\n",
       "         245.,   40.,   52.,  104.,  132.,   88.,   69.,  219.,   72.,\n",
       "         201.,  110.,   51.,  277.,   63.,  118.,   69.,  273.,  258.,\n",
       "          43.,  198.,  242.,  232.,  175.,   93.,  168.,  275.,  293.,\n",
       "         281.,   72.,  140.,  189.,  181.,  209.,  136.,  261.,  113.,\n",
       "         131.,  174.,  257.,   55.,   84.,   42.,  146.,  212.,  233.,\n",
       "          91.,  111.,  152.,  120.,   67.,  310.,   94.,  183.,   66.,\n",
       "         173.,   72.,   49.,   64.,   48.,  178.,  104.,  132.,  220.,   57.])}"
      ]
     },
     "execution_count": 9,
     "metadata": {},
     "output_type": "execute_result"
    }
   ],
   "source": [
    "import pandas as pd\n",
    "from sklearn import datasets, linear_model\n",
    "from sklearn.model_selection import cross_val_score\n",
    "diabetes = datasets.load_diabetes()\n",
    "diabetes"
   ]
  },
  {
   "cell_type": "code",
   "execution_count": 5,
   "metadata": {
    "collapsed": false
   },
   "outputs": [
    {
     "name": "stdout",
     "output_type": "stream",
     "text": [
      "[ 0.33150734  0.08022311  0.03531764]\n"
     ]
    }
   ],
   "source": [
    "X = diabetes.data[:150]\n",
    "y = diabetes.target[:150]\n",
    "lasso = linear_model.Lasso()\n",
    "print(cross_val_score(lasso, X, y)) "
   ]
  },
  {
   "cell_type": "code",
   "execution_count": 7,
   "metadata": {
    "collapsed": false
   },
   "outputs": [
    {
     "name": "stdout",
     "output_type": "stream",
     "text": [
      "{'3': [], '2': [], '1': []}\n"
     ]
    }
   ],
   "source": [
    "team_exam = {}\n",
    "team_exam['1'] = []\n",
    "team_exam['2'] = []\n",
    "team_exam['3'] = []\n",
    "print(team_exam)"
   ]
  },
  {
   "cell_type": "code",
   "execution_count": 24,
   "metadata": {
    "collapsed": false
   },
   "outputs": [
    {
     "name": "stdout",
     "output_type": "stream",
     "text": [
      "   int  float\n",
      "0    1    1.5\n",
      "1    1    2.0\n",
      "\n",
      "int      1.0\n",
      "float    1.5\n",
      "Name: 0, dtype: float64\n"
     ]
    },
    {
     "ename": "TypeError",
     "evalue": "'generator' object is not subscriptable",
     "output_type": "error",
     "traceback": [
      "\u001b[0;31m---------------------------------------------------------------------------\u001b[0m",
      "\u001b[0;31mTypeError\u001b[0m                                 Traceback (most recent call last)",
      "\u001b[0;32m<ipython-input-24-9390be1e736e>\u001b[0m in \u001b[0;36m<module>\u001b[0;34m()\u001b[0m\n\u001b[1;32m      4\u001b[0m \u001b[0mrow\u001b[0m \u001b[1;33m=\u001b[0m \u001b[0mnext\u001b[0m\u001b[1;33m(\u001b[0m\u001b[0mdf\u001b[0m\u001b[1;33m.\u001b[0m\u001b[0miterrows\u001b[0m\u001b[1;33m(\u001b[0m\u001b[1;33m)\u001b[0m\u001b[1;33m)\u001b[0m\u001b[1;33m[\u001b[0m\u001b[1;36m1\u001b[0m\u001b[1;33m]\u001b[0m\u001b[1;33m\u001b[0m\u001b[0m\n\u001b[1;32m      5\u001b[0m \u001b[0mprint\u001b[0m\u001b[1;33m(\u001b[0m\u001b[0mrow\u001b[0m\u001b[1;33m)\u001b[0m\u001b[1;33m\u001b[0m\u001b[0m\n\u001b[0;32m----> 6\u001b[0;31m \u001b[0mprint\u001b[0m\u001b[1;33m(\u001b[0m\u001b[0mdf\u001b[0m\u001b[1;33m.\u001b[0m\u001b[0miterrows\u001b[0m\u001b[1;33m(\u001b[0m\u001b[1;33m)\u001b[0m\u001b[1;33m[\u001b[0m\u001b[1;36m2\u001b[0m\u001b[1;33m]\u001b[0m\u001b[1;33m)\u001b[0m\u001b[1;33m\u001b[0m\u001b[0m\n\u001b[0m\u001b[1;32m      7\u001b[0m \u001b[0mprint\u001b[0m\u001b[1;33m(\u001b[0m\u001b[1;33m)\u001b[0m\u001b[1;33m\u001b[0m\u001b[0m\n\u001b[1;32m      8\u001b[0m \u001b[1;33m\u001b[0m\u001b[0m\n",
      "\u001b[0;31mTypeError\u001b[0m: 'generator' object is not subscriptable"
     ]
    }
   ],
   "source": [
    "df = pd.DataFrame([[1, 1.5], [1, 2]], columns=['int', 'float'])\n",
    "print(df)\n",
    "print()\n",
    "row = next(df.iterrows())[1]\n",
    "print(row)\n",
    "\n",
    "print(row['int'].dtype)\n",
    "\n",
    "print(df['int'].dtype)\n"
   ]
  },
  {
   "cell_type": "code",
   "execution_count": null,
   "metadata": {
    "collapsed": true
   },
   "outputs": [],
   "source": []
  },
  {
   "cell_type": "code",
   "execution_count": null,
   "metadata": {
    "collapsed": true
   },
   "outputs": [],
   "source": []
  },
  {
   "cell_type": "code",
   "execution_count": 26,
   "metadata": {
    "collapsed": false
   },
   "outputs": [
    {
     "data": {
      "text/html": [
       "<div>\n",
       "<style>\n",
       "    .dataframe thead tr:only-child th {\n",
       "        text-align: right;\n",
       "    }\n",
       "\n",
       "    .dataframe thead th {\n",
       "        text-align: left;\n",
       "    }\n",
       "\n",
       "    .dataframe tbody tr th {\n",
       "        vertical-align: top;\n",
       "    }\n",
       "</style>\n",
       "<table border=\"1\" class=\"dataframe\">\n",
       "  <thead>\n",
       "    <tr style=\"text-align: right;\">\n",
       "      <th></th>\n",
       "      <th>Close_date_wk</th>\n",
       "      <th>subid</th>\n",
       "      <th>week_diff</th>\n",
       "    </tr>\n",
       "  </thead>\n",
       "  <tbody>\n",
       "    <tr>\n",
       "      <th>0</th>\n",
       "      <td>25</td>\n",
       "      <td>A</td>\n",
       "      <td>3</td>\n",
       "    </tr>\n",
       "    <tr>\n",
       "      <th>1</th>\n",
       "      <td>26</td>\n",
       "      <td>B</td>\n",
       "      <td>2</td>\n",
       "    </tr>\n",
       "    <tr>\n",
       "      <th>2</th>\n",
       "      <td>27</td>\n",
       "      <td>C</td>\n",
       "      <td>2</td>\n",
       "    </tr>\n",
       "  </tbody>\n",
       "</table>\n",
       "</div>"
      ],
      "text/plain": [
       "   Close_date_wk subid  week_diff\n",
       "0             25     A          3\n",
       "1             26     B          2\n",
       "2             27     C          2"
      ]
     },
     "execution_count": 26,
     "metadata": {},
     "output_type": "execute_result"
    }
   ],
   "source": [
    "import pandas\n",
    "mydata = [{'subid' : 'A', 'Close_date_wk': 25, 'week_diff':3},\n",
    "          {'subid' : 'B', 'Close_date_wk': 26, 'week_diff':2},\n",
    "          {'subid' : 'C', 'Close_date_wk': 27, 'week_diff':2},]\n",
    "df = pandas.DataFrame(mydata)\n",
    "df"
   ]
  },
  {
   "cell_type": "code",
   "execution_count": 31,
   "metadata": {
    "collapsed": false
   },
   "outputs": [
    {
     "name": "stdout",
     "output_type": "stream",
     "text": [
      "0 -------->\n",
      "Close_date_wk    25\n",
      "subid             A\n",
      "week_diff         3\n",
      "Name: 0, dtype: object\n",
      "1 -------->\n",
      "Close_date_wk    26\n",
      "subid             B\n",
      "week_diff         2\n",
      "Name: 1, dtype: object\n",
      "2 -------->\n",
      "Close_date_wk    27\n",
      "subid             C\n",
      "week_diff         2\n",
      "Name: 2, dtype: object\n"
     ]
    }
   ],
   "source": [
    "for index, row in df.iterrows():\n",
    "    i = 0\n",
    "    print(index, \"-------->\")\n",
    "    print(row)\n",
    "    max_range = row['Close_date_wk']    \n",
    "    min_range = int(row['Close_date_wk'] - row['week_diff'])\n",
    "    for i in range(min_range,max_range):\n",
    "        col_head = 'job_week_'  +  str(i)\n",
    "        row[col_head] = 1"
   ]
  },
  {
   "cell_type": "markdown",
   "metadata": {},
   "source": [
    "### strip, split\n"
   ]
  },
  {
   "cell_type": "code",
   "execution_count": 33,
   "metadata": {
    "collapsed": false
   },
   "outputs": [
    {
     "name": "stdout",
     "output_type": "stream",
     "text": [
      "['blah', ' lots  ', '  of ', '  spaces', ' here ']\n"
     ]
    }
   ],
   "source": [
    "# ','을 기준으로 나누어 리스트를 만들어보자.\n",
    "string = \"blah, lots  ,  of ,  spaces, here \"\n",
    "mylist = string.split(',')\n",
    "print (mylist)\n"
   ]
  },
  {
   "cell_type": "code",
   "execution_count": 35,
   "metadata": {
    "collapsed": false
   },
   "outputs": [
    {
     "data": {
      "text/plain": [
       "['blah', 'lots', 'of', 'spaces', 'here']"
      ]
     },
     "execution_count": 35,
     "metadata": {},
     "output_type": "execute_result"
    }
   ],
   "source": [
    "# ','와 공백을 기준으로 나누어 리스트를 만들어보자.\n",
    "my_string = \"blah, lots  ,  of ,  spaces, here \"\n",
    "[x.strip() for x in my_string.split(',')]"
   ]
  },
  {
   "cell_type": "code",
   "execution_count": null,
   "metadata": {
    "collapsed": true
   },
   "outputs": [],
   "source": []
  }
 ],
 "metadata": {
  "anaconda-cloud": {},
  "kernelspec": {
   "display_name": "Python [conda root]",
   "language": "python",
   "name": "conda-root-py"
  },
  "language_info": {
   "codemirror_mode": {
    "name": "ipython",
    "version": 3
   },
   "file_extension": ".py",
   "mimetype": "text/x-python",
   "name": "python",
   "nbconvert_exporter": "python",
   "pygments_lexer": "ipython3",
   "version": "3.5.2"
  }
 },
 "nbformat": 4,
 "nbformat_minor": 1
}
